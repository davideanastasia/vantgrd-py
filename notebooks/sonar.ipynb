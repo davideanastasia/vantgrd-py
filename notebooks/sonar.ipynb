{
 "cells": [
  {
   "cell_type": "code",
   "execution_count": 1,
   "metadata": {},
   "outputs": [],
   "source": [
    "%load_ext autoreload\n",
    "\n",
    "%autoreload 2"
   ]
  },
  {
   "cell_type": "code",
   "execution_count": 2,
   "metadata": {},
   "outputs": [],
   "source": [
    "import sys\n",
    "\n",
    "sys.path.append('..')"
   ]
  },
  {
   "cell_type": "code",
   "execution_count": 3,
   "metadata": {},
   "outputs": [],
   "source": [
    "import numpy as np\n",
    "import matplotlib.pyplot as plt\n",
    "\n",
    "%matplotlib inline"
   ]
  },
  {
   "cell_type": "code",
   "execution_count": 4,
   "metadata": {},
   "outputs": [],
   "source": [
    "from sklearn.model_selection import train_test_split\n",
    "from sklearn.metrics import classification_report, roc_curve, auc, confusion_matrix"
   ]
  },
  {
   "cell_type": "code",
   "execution_count": 5,
   "metadata": {},
   "outputs": [],
   "source": [
    "from vantgrd.datasets import read_connectionist_bench, normalize_data\n",
    "from vantgrd.logistic import LogisticRegressionWithAdadelta, LogisticRegressionWithAdagrad, LogisticRegressionFTRL\n",
    "from vantgrd.fm import FMWithAdagrad, FMWithSGD"
   ]
  },
  {
   "cell_type": "code",
   "execution_count": 8,
   "metadata": {},
   "outputs": [
    {
     "name": "stdout",
     "output_type": "stream",
     "text": [
      "Epoch:   2 | Training Samples:       500 | Loss:     1446.26 | LossAdj:  2.89252 | Time taken:    0 seconds\n",
      "Epoch:   5 | Training Samples:      1000 | Loss:     1814.21 | LossAdj:  1.81421 | Time taken:    0 seconds\n",
      "Epoch:   8 | Training Samples:      1500 | Loss:     2186.89 | LossAdj:  1.45793 | Time taken:    0 seconds\n",
      "Epoch:  11 | Training Samples:      2000 | Loss:     2362.76 | LossAdj:  1.18138 | Time taken:    0 seconds\n",
      "Epoch:  14 | Training Samples:      2500 | Loss:     2527.90 | LossAdj:  1.01116 | Time taken:    0 seconds\n",
      "Epoch:  17 | Training Samples:      3000 | Loss:     2691.59 | LossAdj:  0.89720 | Time taken:    0 seconds\n",
      "Epoch:  19 | Training Samples:      3500 | Loss:     2826.10 | LossAdj:  0.80746 | Time taken:    0 seconds\n",
      "Epoch:  22 | Training Samples:      4000 | Loss:     2933.48 | LossAdj:  0.73337 | Time taken:    0 seconds\n",
      "Epoch:  25 | Training Samples:      4500 | Loss:     3117.14 | LossAdj:  0.69270 | Time taken:    0 seconds\n",
      "Epoch:  28 | Training Samples:      5000 | Loss:     3173.48 | LossAdj:  0.63470 | Time taken:    0 seconds\n",
      "Epoch:  31 | Training Samples:      5500 | Loss:     3256.03 | LossAdj:  0.59201 | Time taken:    0 seconds\n",
      "Epoch:  34 | Training Samples:      6000 | Loss:     3360.40 | LossAdj:  0.56007 | Time taken:    0 seconds\n",
      "Epoch:  36 | Training Samples:      6500 | Loss:     3413.89 | LossAdj:  0.52521 | Time taken:    0 seconds\n",
      "Epoch:  39 | Training Samples:      7000 | Loss:     3443.21 | LossAdj:  0.49189 | Time taken:    0 seconds\n",
      "Epoch:  42 | Training Samples:      7500 | Loss:     3452.50 | LossAdj:  0.46033 | Time taken:    0 seconds\n",
      "Epoch:  45 | Training Samples:      8000 | Loss:     3459.85 | LossAdj:  0.43248 | Time taken:    0 seconds\n",
      "Epoch:  48 | Training Samples:      8500 | Loss:     3462.90 | LossAdj:  0.40740 | Time taken:    0 seconds\n",
      " --- TRAINING FINISHED IN 8 SECONDS WITH LOSS 0.39 ---\n",
      "{0: 1.0, 1: 1.0}\n",
      "{0: 1.0, 1: 1.0}\n",
      "              precision    recall  f1-score   support\n",
      "\n",
      "         0.0       0.80      0.92      0.86        13\n",
      "         1.0       0.94      0.84      0.89        19\n",
      "\n",
      "    accuracy                           0.88        32\n",
      "   macro avg       0.87      0.88      0.87        32\n",
      "weighted avg       0.88      0.88      0.88        32\n",
      "\n",
      "[[12  1]\n",
      " [ 3 16]]\n",
      "AUC = 0.919028\n",
      "Score = 0.9807692307692307\n"
     ]
    }
   ],
   "source": [
    "rate = 500\n",
    "epochs = 50\n",
    "cw = {0: 1., 1: 1.}\n",
    "\n",
    "X, y = read_connectionist_bench('../data/connectionist-bench/sonar.all-data')\n",
    "X = normalize_data(X)\n",
    "\n",
    "X_train, X_test, y_train, y_test = train_test_split(X, y, test_size=0.15, random_state=42)\n",
    "\n",
    "# lr = FMWithSGD(eta=.01, k0=True, k1=True, regw=.01, regv=.01, n_factors=4, epochs=epochs, rate=rate, class_weight=cw))\n",
    "lr = FMWithAdagrad(eta=.025, k0=True, k1=True, regw=.01, regv=.01, n_factors=4, epochs=epochs, rate=rate, class_weight=cw)\n",
    "# lr = LogisticRegressionWithAdagrad(eta=0.25, epochs=epochs, rate=rate, class_weight=cw))\n",
    "# lr = LogisticRegressionWithAdadelta(rho=0.8, regw=.001, epochs=epochs, rate=rate, class_weight=cw))\n",
    "# lr = LogisticRegressionFTRL(epochs=epochs, rate=rate, class_weight=cw))\n",
    "lr.fit(X_train, y_train)\n",
    "\n",
    "print(lr.class_weight_)\n",
    "print(lr.class_weight)\n",
    "\n",
    "y_pred = lr.predict(X_test)\n",
    "print(classification_report(y_test, y_pred))\n",
    "\n",
    "print(confusion_matrix(y_test, y_pred))\n",
    "\n",
    "y_test_prob = lr.raw_predict(X_test)\n",
    "\n",
    "fpr, tpr, thresholds = roc_curve(y_test, y_test_prob)\n",
    "\n",
    "roc_auc = auc(fpr, tpr)\n",
    "\n",
    "print(\"AUC = %f\" % roc_auc)\n",
    "print(\"Score = {}\".format(lr.score(X, y)))"
   ]
  },
  {
   "cell_type": "code",
   "execution_count": 9,
   "metadata": {},
   "outputs": [
    {
     "data": {
      "image/png": "[encoded data removed]",
      "text/plain": [
       "<Figure size 432x288 with 2 Axes>"
      ]
     },
     "metadata": {
      "needs_background": "light"
     },
     "output_type": "display_data"
    }
   ],
   "source": [
    "fig = plt.figure()\n",
    "ax = fig.add_subplot(1, 2, 1)\n",
    "ax.plot(fpr, tpr, color='blue', label='ROC area = %0.2f' % roc_auc)\n",
    "ax.set_xlabel(\"False positive rate\")\n",
    "ax.set_ylabel(\"True positive rate\")\n",
    "ax.grid()\n",
    "\n",
    "bx = fig.add_subplot(1, 2, 2)\n",
    "bx.scatter(y_test_prob, y_test, s=5, alpha=0.10, color='blue')\n",
    "bx.set_xlabel(\"Output Probability\")\n",
    "bx.set_ylabel(\"Target Variable\")\n",
    "bx.grid()\n",
    "\n",
    "plt.show()"
   ]
  },
  {
   "cell_type": "code",
   "execution_count": null,
   "metadata": {},
   "outputs": [],
   "source": []
  }
 ],
 "metadata": {
  "kernelspec": {
   "display_name": "Python 3",
   "language": "python",
   "name": "python3"
  },
  "language_info": {
   "codemirror_mode": {
    "name": "ipython",
    "version": 3
   },
   "file_extension": ".py",
   "mimetype": "text/x-python",
   "name": "python",
   "nbconvert_exporter": "python",
   "pygments_lexer": "ipython3",
   "version": "3.7.6"
  }
 },
 "nbformat": 4,
 "nbformat_minor": 4
}
